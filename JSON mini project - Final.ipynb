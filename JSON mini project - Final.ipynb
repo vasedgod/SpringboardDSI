{
 "cells": [
  {
   "cell_type": "markdown",
   "metadata": {},
   "source": [
    "****\n",
    "## JSON mini project\n",
    "\n",
    "Using data in file 'data/world_bank_projects.json' and the techniques demonstrated before (examples removed for this notebook),\n",
    "1. Find the 10 countries with most projects\n",
    "2. Find the top 10 major project themes (using column 'mjtheme_namecode')\n",
    "3. In 2. above you will notice that some entries have only the code and the name is missing. Create a dataframe with the missing names filled in."
   ]
  },
  {
   "cell_type": "code",
   "execution_count": 112,
   "metadata": {
    "collapsed": true
   },
   "outputs": [],
   "source": [
    "# Import data science packages\n",
    "import pandas as pd\n",
    "import numpy as np\n",
    "import json\n",
    "from pandas.io.json import json_normalize\n"
   ]
  },
  {
   "cell_type": "code",
   "execution_count": 52,
   "metadata": {},
   "outputs": [],
   "source": [
    "# Import the project dataset from a JSON file\n",
    "jsout = json.load((open('data/world_bank_projects.json')))\n",
    "\n",
    "# Get the messy JSON\n",
    "raw_df = pd.read_json('data/world_bank_projects.json')"
   ]
  },
  {
   "cell_type": "markdown",
   "metadata": {},
   "source": [
    "## 1. Find the 10 countries with most projects"
   ]
  },
  {
   "cell_type": "code",
   "execution_count": 60,
   "metadata": {},
   "outputs": [
    {
     "data": {
      "text/plain": [
       "People's Republic of China         19\n",
       "Republic of Indonesia              19\n",
       "Socialist Republic of Vietnam      17\n",
       "Republic of India                  16\n",
       "Republic of Yemen                  13\n",
       "People's Republic of Bangladesh    12\n",
       "Nepal                              12\n",
       "Kingdom of Morocco                 12\n",
       "Republic of Mozambique             11\n",
       "Africa                             11\n",
       "Name: countryname, dtype: int64"
      ]
     },
     "execution_count": 60,
     "metadata": {},
     "output_type": "execute_result"
    }
   ],
   "source": [
    "# Merge normalized DataFrame with the raw one \n",
    "top10_countries = raw_df\n",
    "top10_countries = top10_countries[['id','countryname']]\n",
    "\n",
    "# Get unique project IDs, count by country, return top 10\n",
    "top10_countries = top10_countries.drop_duplicates()\n",
    "top10_countries = top10_countries.countryname.value_counts()\n",
    "top10_countries = top10_countries.head(10)\n",
    "top10_countries"
   ]
  },
  {
   "cell_type": "markdown",
   "metadata": {},
   "source": [
    " ## 2. Find the top 10 major project themes (using column 'mjtheme_namecode')"
   ]
  },
  {
   "cell_type": "code",
   "execution_count": 62,
   "metadata": {
    "scrolled": true
   },
   "outputs": [
    {
     "data": {
      "text/plain": [
       "Environment and natural resources management    223\n",
       "Rural development                               202\n",
       "Human development                               197\n",
       "Public sector governance                        184\n",
       "Social protection and risk management           158\n",
       "Financial and private sector development        130\n",
       "                                                122\n",
       "Social dev/gender/inclusion                     119\n",
       "Trade and integration                            72\n",
       "Urban development                                47\n",
       "Economic management                              33\n",
       "Rule of law                                      12\n",
       "Name: name, dtype: int64"
      ]
     },
     "execution_count": 62,
     "metadata": {},
     "output_type": "execute_result"
    }
   ],
   "source": [
    "# Normalize the raw JSON file on the 'mjtheme_namecode' column,\n",
    "#     include 'id' for merging\n",
    "normal_df = pd.DataFrame(json_normalize(jsout,'mjtheme_namecode','id'))\n",
    "\n",
    "top10_themes = normal_df\n",
    "top10_themes = top10_themes['name'].value_counts()\n",
    "top10_themes.head(10)\n",
    "top10_themes"
   ]
  },
  {
   "cell_type": "markdown",
   "metadata": {
    "collapsed": true
   },
   "source": [
    "Note that there is a blank project theme name in the top 10! We'll find the correct numbers in the 3rd part of this project."
   ]
  },
  {
   "cell_type": "markdown",
   "metadata": {},
   "source": [
    "## 3. In 2. above you will notice that some entries have only the code and the name is missing. Create a dataframe with the missing names filled in."
   ]
  },
  {
   "cell_type": "code",
   "execution_count": 65,
   "metadata": {
    "scrolled": true
   },
   "outputs": [],
   "source": [
    "# Replace all empty strings with NaN to make replacement easier\n",
    "fixed_df = normal_df.replace('',np.nan)\n",
    "\n",
    "# Perform a ffill and a bfill to ensure correct value is filled from before or after the current row\n",
    "fixed_df = fixed_df.groupby('name').ffill().bfill()\n",
    "\n",
    "# Provide new names to reflect the normalized columns\n",
    "fixed_df.columns = ['mjtheme_code','mjtheme_name','id']"
   ]
  },
  {
   "cell_type": "code",
   "execution_count": 217,
   "metadata": {},
   "outputs": [],
   "source": [
    "# Merge fixed_df with the original raw_df\n",
    "clean_df = raw_df.merge(fixed_df, on='id')\n",
    "\n",
    "# Remove old, unnormalized column\n",
    "clean_df = clean_df.drop('mjtheme_namecode', axis=1)"
   ]
  },
  {
   "cell_type": "markdown",
   "metadata": {
    "collapsed": true
   },
   "source": [
    "Let's find the correct numbers for the top 10 major project themes, having gotten the blank project theme entries accounted for!"
   ]
  },
  {
   "cell_type": "code",
   "execution_count": 67,
   "metadata": {},
   "outputs": [
    {
     "data": {
      "text/plain": [
       "Environment and natural resources management    250\n",
       "Human development                               218\n",
       "Rural development                               215\n",
       "Public sector governance                        198\n",
       "Social protection and risk management           177\n",
       "Financial and private sector development        142\n",
       "Social dev/gender/inclusion                     126\n",
       "Trade and integration                            78\n",
       "Urban development                                49\n",
       "Economic management                              34\n",
       "Name: mjtheme_name, dtype: int64"
      ]
     },
     "execution_count": 67,
     "metadata": {},
     "output_type": "execute_result"
    }
   ],
   "source": [
    "# Sort the new DataFrame by mjproject\n",
    "clean_top10_themes = clean_df['mjtheme_name']\n",
    "\n",
    "#And here are the actual numbers! \n",
    "clean_top10_themes.value_counts().head(10)"
   ]
  },
  {
   "cell_type": "markdown",
   "metadata": {},
   "source": [
    "## Just out of curiosity, let's find out how much these counts changed between the wrong version and the right version!"
   ]
  },
  {
   "cell_type": "code",
   "execution_count": 216,
   "metadata": {},
   "outputs": [
    {
     "data": {
      "text/plain": [
       "Economic management                              33\n",
       "Environment and natural resources management    223\n",
       "Financial and private sector development        130\n",
       "Human development                               197\n",
       "Public sector governance                        184\n",
       "Rule of law                                      12\n",
       "Rural development                               202\n",
       "Social dev/gender/inclusion                     119\n",
       "Social protection and risk management           158\n",
       "Trade and integration                            72\n",
       "Urban development                                47\n",
       "Name: name, dtype: int64"
      ]
     },
     "execution_count": 216,
     "metadata": {},
     "output_type": "execute_result"
    }
   ],
   "source": [
    "# We're not going to compare the empty-named categories\n",
    "wrong_df = top10_themes.sort_index().drop('')\n",
    "wrong_df"
   ]
  },
  {
   "cell_type": "code",
   "execution_count": 192,
   "metadata": {},
   "outputs": [
    {
     "data": {
      "text/plain": [
       "Economic management                              34\n",
       "Environment and natural resources management    250\n",
       "Financial and private sector development        142\n",
       "Human development                               218\n",
       "Public sector governance                        198\n",
       "Rule of law                                      12\n",
       "Rural development                               215\n",
       "Social dev/gender/inclusion                     126\n",
       "Social protection and risk management           177\n",
       "Trade and integration                            78\n",
       "Urban development                                49\n",
       "Name: mjtheme_name, dtype: int64"
      ]
     },
     "execution_count": 192,
     "metadata": {},
     "output_type": "execute_result"
    }
   ],
   "source": [
    "right_df = clean_top10_themes.value_counts().sort_index()\n",
    "right_df"
   ]
  },
  {
   "cell_type": "code",
   "execution_count": 215,
   "metadata": {},
   "outputs": [
    {
     "data": {
      "text/html": [
       "<div>\n",
       "<style>\n",
       "    .dataframe thead tr:only-child th {\n",
       "        text-align: right;\n",
       "    }\n",
       "\n",
       "    .dataframe thead th {\n",
       "        text-align: left;\n",
       "    }\n",
       "\n",
       "    .dataframe tbody tr th {\n",
       "        vertical-align: top;\n",
       "    }\n",
       "</style>\n",
       "<table border=\"1\" class=\"dataframe\">\n",
       "  <thead>\n",
       "    <tr style=\"text-align: right;\">\n",
       "      <th></th>\n",
       "      <th>absolute error</th>\n",
       "      <th>percent error</th>\n",
       "    </tr>\n",
       "  </thead>\n",
       "  <tbody>\n",
       "    <tr>\n",
       "      <th>Economic management</th>\n",
       "      <td>1</td>\n",
       "      <td>2.9%</td>\n",
       "    </tr>\n",
       "    <tr>\n",
       "      <th>Environment and natural resources management</th>\n",
       "      <td>27</td>\n",
       "      <td>10.8%</td>\n",
       "    </tr>\n",
       "    <tr>\n",
       "      <th>Financial and private sector development</th>\n",
       "      <td>12</td>\n",
       "      <td>8.5%</td>\n",
       "    </tr>\n",
       "    <tr>\n",
       "      <th>Human development</th>\n",
       "      <td>21</td>\n",
       "      <td>9.6%</td>\n",
       "    </tr>\n",
       "    <tr>\n",
       "      <th>Public sector governance</th>\n",
       "      <td>14</td>\n",
       "      <td>7.1%</td>\n",
       "    </tr>\n",
       "    <tr>\n",
       "      <th>Rule of law</th>\n",
       "      <td>0</td>\n",
       "      <td>0.0%</td>\n",
       "    </tr>\n",
       "    <tr>\n",
       "      <th>Rural development</th>\n",
       "      <td>13</td>\n",
       "      <td>6.0%</td>\n",
       "    </tr>\n",
       "    <tr>\n",
       "      <th>Social dev/gender/inclusion</th>\n",
       "      <td>7</td>\n",
       "      <td>5.6%</td>\n",
       "    </tr>\n",
       "    <tr>\n",
       "      <th>Social protection and risk management</th>\n",
       "      <td>19</td>\n",
       "      <td>10.7%</td>\n",
       "    </tr>\n",
       "    <tr>\n",
       "      <th>Trade and integration</th>\n",
       "      <td>6</td>\n",
       "      <td>7.7%</td>\n",
       "    </tr>\n",
       "    <tr>\n",
       "      <th>Urban development</th>\n",
       "      <td>2</td>\n",
       "      <td>4.1%</td>\n",
       "    </tr>\n",
       "  </tbody>\n",
       "</table>\n",
       "</div>"
      ],
      "text/plain": [
       "                                              absolute error percent error\n",
       "Economic management                                        1          2.9%\n",
       "Environment and natural resources management              27         10.8%\n",
       "Financial and private sector development                  12          8.5%\n",
       "Human development                                         21          9.6%\n",
       "Public sector governance                                  14          7.1%\n",
       "Rule of law                                                0          0.0%\n",
       "Rural development                                         13          6.0%\n",
       "Social dev/gender/inclusion                                7          5.6%\n",
       "Social protection and risk management                     19         10.7%\n",
       "Trade and integration                                      6          7.7%\n",
       "Urban development                                          2          4.1%"
      ]
     },
     "execution_count": 215,
     "metadata": {},
     "output_type": "execute_result"
    }
   ],
   "source": [
    "diff = pd.DataFrame(right_df - wrong_df)\n",
    "diff.columns = ['absolute error']\n",
    "diff['percent error'] = (diff['absolute error'] / right_df * 100).map('{:,.1f}%'.format)\n",
    "diff"
   ]
  },
  {
   "cell_type": "markdown",
   "metadata": {},
   "source": [
    "The percent error, calculated by dividing the absolute error by the correct value, shows just how important correctly filling missing data can be. Especially with the Environmental and natural resources management and Social protection and risk management themes, we would have been off by over 10 percent had we not taken care of those missing values!"
   ]
  }
 ],
 "metadata": {
  "kernelspec": {
   "display_name": "Python 3",
   "language": "python",
   "name": "python3"
  },
  "language_info": {
   "codemirror_mode": {
    "name": "ipython",
    "version": 3
   },
   "file_extension": ".py",
   "mimetype": "text/x-python",
   "name": "python",
   "nbconvert_exporter": "python",
   "pygments_lexer": "ipython3",
   "version": "3.6.1"
  }
 },
 "nbformat": 4,
 "nbformat_minor": 2
}
